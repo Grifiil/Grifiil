{
  "nbformat": 4,
  "nbformat_minor": 0,
  "metadata": {
    "colab": {
      "provenance": [],
      "authorship_tag": "ABX9TyMxzRHB+dznVvQxT4kCbmbI",
      "include_colab_link": true
    },
    "kernelspec": {
      "name": "python3",
      "display_name": "Python 3"
    },
    "language_info": {
      "name": "python"
    }
  },
  "cells": [
    {
      "cell_type": "markdown",
      "metadata": {
        "id": "view-in-github",
        "colab_type": "text"
      },
      "source": [
        "<a href=\"https://colab.research.google.com/github/Grifiil/Grifiil/blob/main/Pertemuan_6.ipynb\" target=\"_parent\"><img src=\"https://colab.research.google.com/assets/colab-badge.svg\" alt=\"Open In Colab\"/></a>"
      ]
    },
    {
      "cell_type": "code",
      "execution_count": null,
      "metadata": {
        "colab": {
          "base_uri": "https://localhost:8080/"
        },
        "id": "eerCQqksCQMk",
        "outputId": "fe31ef44-d2ad-44f9-ca3d-72aec5dbcf39"
      },
      "outputs": [
        {
          "output_type": "stream",
          "name": "stdout",
          "text": [
            "Berapa banyak terms? 20\n",
            "Fibonacci sequence:\n",
            "0\n",
            "1\n",
            "1\n",
            "2\n",
            "3\n",
            "5\n",
            "8\n",
            "13\n",
            "21\n",
            "34\n",
            "55\n",
            "89\n",
            "144\n",
            "233\n",
            "377\n",
            "610\n",
            "987\n",
            "1597\n",
            "2584\n",
            "4181\n"
          ]
        }
      ],
      "source": [
        "# first two terms\n",
        "nterms = int(input(\"Berapa banyak terms? \"))\n",
        "n1, n2 = 0, 1\n",
        "count = 0\n",
        "\n",
        "# check if the number of terms is valid\n",
        "if nterms <= 0:\n",
        "    print(\"Please enter a positive integer\")\n",
        "elif nterms == 1:\n",
        "    print(\"Fibonacci sequence upto\",nterms,\":\")\n",
        "    print(n1)\n",
        "else:\n",
        "    print(\"Fibonacci sequence:\")\n",
        "    while count < nterms:\n",
        "        print(n1)\n",
        "        nth = n1 + n2\n",
        "        # update values\n",
        "        n1 = n2\n",
        "        n2 = nth\n",
        "        count += 1"
      ]
    },
    {
      "cell_type": "code",
      "source": [
        "#Fibonacci dengan rekursi\n",
        "\n",
        "def recur_fibo(n):\n",
        "    if n <= 1:\n",
        "        return n\n",
        "    else:\n",
        "        return(recur_fibo(n-1) + recur_fibo(n-2))\n",
        "\n",
        "nterms = 20\n",
        "\n",
        "# cek apakah ada nilai nterms valid\n",
        "if nterms <= 0:\n",
        "    print(\"please enter a positive integer\")\n",
        "else:\n",
        "    print(\"Fibonancci sequence\")\n",
        "    for i in range(nterms):\n",
        "        print(recur_fibo(i))"
      ],
      "metadata": {
        "colab": {
          "base_uri": "https://localhost:8080/"
        },
        "id": "zfEKMekvEJ4o",
        "outputId": "388c59d6-925a-43c7-8013-9061d0f2f20a"
      },
      "execution_count": null,
      "outputs": [
        {
          "output_type": "stream",
          "name": "stdout",
          "text": [
            "Fibonancci sequence\n",
            "0\n",
            "1\n",
            "1\n",
            "2\n",
            "3\n",
            "5\n",
            "8\n",
            "13\n",
            "21\n",
            "34\n",
            "55\n",
            "89\n",
            "144\n",
            "233\n",
            "377\n",
            "610\n",
            "987\n",
            "1597\n",
            "2584\n",
            "4181\n"
          ]
        }
      ]
    },
    {
      "cell_type": "code",
      "source": [
        "import matplotlib\n",
        "import matplotlib.pyplot as plt\n",
        "import random\n",
        "import time\n",
        "import itertools\n",
        "\n",
        "#Try All Tours (exact_TSP)\n",
        "def exact_TSP(cities):\n",
        "    \"Generate all possible tours of the cities and choose the sgortest one.\"\n",
        "    return shortest(alltours(cities))\n",
        "\n",
        "def shortest(tours):\n",
        "    \"Return the tour with the minimum total distance.\"\n",
        "    return min(tours, key=total_distance)\n",
        "\n",
        "#Representing Tours\n",
        "alltours = itertools.permutations # The permutation function is already defined in the itertools module\n",
        "\n",
        "cities = {1, 2, 3}\n",
        "\n",
        "list(alltours(cities))"
      ],
      "metadata": {
        "colab": {
          "base_uri": "https://localhost:8080/"
        },
        "id": "PJcTmfJsF2sZ",
        "outputId": "0a168d87-4795-4f20-e411-117220b1c98f"
      },
      "execution_count": null,
      "outputs": [
        {
          "output_type": "execute_result",
          "data": {
            "text/plain": [
              "[(1, 2, 3), (1, 3, 2), (2, 1, 3), (2, 3, 1), (3, 1, 2), (3, 2, 1)]"
            ]
          },
          "metadata": {},
          "execution_count": 14
        }
      ]
    },
    {
      "cell_type": "code",
      "source": [
        "#Representing Cities  and Distance\n",
        "def total_distance(tour):\n",
        "  \"The total distance between each pair of consecutive cities in the tour.\"\n",
        "  return sum(distance(tour[i], tour[i-1]) for i in range(len(tour)))"
      ],
      "metadata": {
        "id": "zlePzmHZKBz4"
      },
      "execution_count": null,
      "outputs": []
    },
    {
      "cell_type": "code",
      "source": [
        "City = complex # Constructor for new cities, e.g. City(300, 400)\n",
        "\n",
        "def distance(A, B):\n",
        "    \"the distance between two points.\"\n",
        "    return abs(A - B)"
      ],
      "metadata": {
        "id": "WQjR4XV7KHfv"
      },
      "execution_count": null,
      "outputs": []
    },
    {
      "cell_type": "code",
      "source": [
        "A = City(300, 0)\n",
        "B = City(0, 400)\n",
        "distance(A, B)"
      ],
      "metadata": {
        "colab": {
          "base_uri": "https://localhost:8080/"
        },
        "id": "_yqrk4mwI0-x",
        "outputId": "15ce6ffc-70ad-4de8-a8aa-cfae80522181"
      },
      "execution_count": null,
      "outputs": [
        {
          "output_type": "execute_result",
          "data": {
            "text/plain": [
              "500.0"
            ]
          },
          "metadata": {},
          "execution_count": 17
        }
      ]
    },
    {
      "cell_type": "code",
      "source": [
        "def Cities(n):\n",
        "    \"Make a set of n cities, each with rancom coordinates.\"\n",
        "    return set(City(random.randrange(10, 890), random.randrange(10, 590)) for c in range(n))\n",
        "\n",
        "# Let's make some standart sets of cities of varios sizes\n",
        "# We'll set the random seed so that these sets are the same every time we run this notebook.\n",
        "random.seed('seed')\n",
        "cities8, cities10, cities100, cities1000 = Cities(8), Cities(10), Cities(100), Cities(1000)\n",
        "cities8"
      ],
      "metadata": {
        "colab": {
          "base_uri": "https://localhost:8080/"
        },
        "id": "JjhoDn_pKMo_",
        "outputId": "82aafcf7-cc33-44dd-f15d-45d5b92f359c"
      },
      "execution_count": null,
      "outputs": [
        {
          "output_type": "execute_result",
          "data": {
            "text/plain": [
              "{(151+70j),\n",
              " (252+365j),\n",
              " (303+506j),\n",
              " (498+96j),\n",
              " (54+361j),\n",
              " (551+542j),\n",
              " (684+435j),\n",
              " (800+430j)}"
            ]
          },
          "metadata": {},
          "execution_count": 18
        }
      ]
    },
    {
      "cell_type": "code",
      "source": [
        "tour = exact_TSP(cities8)\n",
        "\n",
        "print(tour)\n",
        "print(total_distance(tour))"
      ],
      "metadata": {
        "colab": {
          "base_uri": "https://localhost:8080/"
        },
        "id": "QHCxVJZxM2Dv",
        "outputId": "b8270e80-73f5-455b-c6a9-b941f3f92499"
      },
      "execution_count": null,
      "outputs": [
        {
          "output_type": "stream",
          "name": "stdout",
          "text": [
            "((551+542j), (303+506j), (252+365j), (54+361j), (151+70j), (498+96j), (800+430j), (684+435j))\n",
            "1990.388372313552\n"
          ]
        }
      ]
    },
    {
      "cell_type": "code",
      "source": [
        "#Try All Non-Redundant Tours\n",
        "def alltours(cities):\n",
        "    \"Return a list of tours, each a permutation of cities, but each one starting with the same city.\"\n",
        "    start = first(cities)\n",
        "    return [[start] + list(tour)\n",
        "      for tour in itertools.permutations(cities - {start})]\n",
        "\n",
        "def first(collection):\n",
        "    \"Start iterating over collection, and return the first element.\"\n",
        "    for x in collection: return x"
      ],
      "metadata": {
        "id": "0GdxrYI3Nhxp"
      },
      "execution_count": null,
      "outputs": []
    },
    {
      "cell_type": "code",
      "source": [
        "alltours({1, 2, 3})"
      ],
      "metadata": {
        "colab": {
          "base_uri": "https://localhost:8080/"
        },
        "id": "snOB7auNUQ0x",
        "outputId": "65e96852-774a-424d-f250-d01308d5b1f5"
      },
      "execution_count": null,
      "outputs": [
        {
          "output_type": "execute_result",
          "data": {
            "text/plain": [
              "[[1, 2, 3], [1, 3, 2]]"
            ]
          },
          "metadata": {},
          "execution_count": 21
        }
      ]
    },
    {
      "cell_type": "code",
      "source": [
        "alltours({1, 2, 3, 4})"
      ],
      "metadata": {
        "colab": {
          "base_uri": "https://localhost:8080/"
        },
        "id": "-bSgjeyUUorj",
        "outputId": "08e9a1ba-5b64-4b79-ee46-2273732a0da7"
      },
      "execution_count": null,
      "outputs": [
        {
          "output_type": "execute_result",
          "data": {
            "text/plain": [
              "[[1, 2, 3, 4],\n",
              " [1, 2, 4, 3],\n",
              " [1, 3, 2, 4],\n",
              " [1, 3, 4, 2],\n",
              " [1, 4, 2, 3],\n",
              " [1, 4, 3, 2]]"
            ]
          },
          "metadata": {},
          "execution_count": 22
        }
      ]
    },
    {
      "cell_type": "code",
      "source": [
        "#Plotting\n",
        "import time\n",
        "def plot_tour(algorithm, cities):\n",
        "    \"Apply a TSP algorithm to cities, and plot the resulting tour.\"\n",
        "    # Find the solution and time how long it takes\n",
        "    t0 = time.time()\n",
        "    tour = algorithm(cities)\n",
        "    t1 = time.time()\n",
        "    # Plot the tour as blue lines between blue circles, and the starting city as a red square.\n",
        "    plotline(list(tour) + [tour[0]])\n",
        "    plotline([tour[0]], 'rs')\n",
        "    plt.show()\n",
        "    print(\"{} city tour; total distance = {:.1f}; time = {:.3f} secs for {}\".format(\n",
        "        len(tour), total_distance(tour), t1-t0, algorithm.__name__))\n",
        "\n",
        "def plotline(points, style='bo-'):\n",
        "    \"Plot a list of points (complex numbers) in the 2-D plane.\"\n",
        "    X, Y = XY(points)\n",
        "    plt.plot(X, Y, style)\n",
        "\n",
        "def XY(points):\n",
        "    \"Given a list of points, return two lists: X coordinates, and Y coordinates.\"\n",
        "    return [p.real for p in points], [p.imag for p in points]\n",
        "\n",
        "plot_tour(exact_TSP, cities8)\n"
      ],
      "metadata": {
        "colab": {
          "base_uri": "https://localhost:8080/",
          "height": 447
        },
        "id": "vHr1RCVlVCRG",
        "outputId": "4a82db4d-49a2-444f-fc39-be8e09789c4f"
      },
      "execution_count": null,
      "outputs": [
        {
          "output_type": "display_data",
          "data": {
            "text/plain": [
              "<Figure size 640x480 with 1 Axes>"
            ],
            "image/png": "[encoded data removed]"
          },
          "metadata": {}
        },
        {
          "output_type": "stream",
          "name": "stdout",
          "text": [
            "8 city tour; total distance = 1990.4; time = 0.065 secs for exact_TSP\n"
          ]
        }
      ]
    },
    {
      "cell_type": "code",
      "source": [
        "#Greedy Nearest Neighbor (greedy_TSP)\n",
        "\n",
        "def greedy_TSP(cities):\n",
        "    \"At each step, visit the nearest neighbor that is still unvisited.\"\n",
        "    start = first(cities)\n",
        "    tour = [start]\n",
        "    unvisited = cities - {start}\n",
        "    while unvisited:\n",
        "      C = nearest_neighbor(tour[-1], unvisited)\n",
        "      tour.append(C)\n",
        "      unvisited.remove(C)\n",
        "    return tour\n",
        "\n",
        "def nearest_neighbor(A, cities):\n",
        "    \"Find the city in cities that is nearest to city A.\"\n",
        "    return min(cities, key=lambda x: distance(x, A))"
      ],
      "metadata": {
        "id": "xoW8HqIDa89Y"
      },
      "execution_count": null,
      "outputs": []
    },
    {
      "cell_type": "code",
      "source": [
        "cities = Cities(9)\n",
        "plot_tour(exact_TSP, cities)\n",
        "plot_tour(greedy_TSP, cities)"
      ],
      "metadata": {
        "colab": {
          "base_uri": "https://localhost:8080/",
          "height": 882
        },
        "id": "cOrb0NJ6cM_y",
        "outputId": "35f62d7d-71ce-4465-fb57-d46cc29cb416"
      },
      "execution_count": null,
      "outputs": [
        {
          "output_type": "display_data",
          "data": {
            "text/plain": [
              "<Figure size 640x480 with 1 Axes>"
            ],
            "image/png": "[encoded data removed]"
          },
          "metadata": {}
        },
        {
          "output_type": "stream",
          "name": "stdout",
          "text": [
            "9 city tour; total distance = 1524.5; time = 0.259 secs for exact_TSP\n"
          ]
        },
        {
          "output_type": "display_data",
          "data": {
            "text/plain": [
              "<Figure size 640x480 with 1 Axes>"
            ],
            "image/png": "[encoded data removed]"
          },
          "metadata": {}
        },
        {
          "output_type": "stream",
          "name": "stdout",
          "text": [
            "9 city tour; total distance = 1554.1; time = 0.000 secs for greedy_TSP\n"
          ]
        }
      ]
    }
  ]
}